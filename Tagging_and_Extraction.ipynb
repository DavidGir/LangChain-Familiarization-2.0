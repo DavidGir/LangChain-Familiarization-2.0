{
 "cells": [
  {
   "cell_type": "markdown",
   "id": "4c05cb18-d58b-4c62-b78f-a80f1407412c",
   "metadata": {},
   "source": [
    "# Tagging and Extraction Using OpenAI functions"
   ]
  },
  {
   "cell_type": "code",
   "execution_count": null,
   "id": "e461c0e0-b6fd-4f4c-a2b2-80a47a672578",
   "metadata": {},
   "outputs": [],
   "source": [
    "import os\n",
    "import openai\n",
    "\n",
    "from dotenv import load_dotenv, find_dotenv\n",
    "_ = load_dotenv(find_dotenv()) # read local .env file\n",
    "openai.api_key = os.environ['OPENAI_API_KEY']"
   ]
  },
  {
   "cell_type": "code",
   "execution_count": null,
   "id": "8e7f7676-8693-4e8b-8f9f-2155a6e28a8c",
   "metadata": {},
   "outputs": [],
   "source": [
    "from typing import List\n",
    "from pydantic import BaseModel, Field\n",
    "from langchain.utils.openai_functions import convert_pydantic_to_openai_function"
   ]
  },
  {
   "cell_type": "code",
   "execution_count": null,
   "id": "d3e1cb37-dd79-4a17-b6a9-486a37ae7135",
   "metadata": {},
   "outputs": [],
   "source": [
    "class Tagging(BaseModel):\n",
    "    \"\"\"Tag the piece of text with particular info.\"\"\"\n",
    "    sentiment: str = Field(description=\"sentiment of text, should be `pos`, `neg`, or `neutral`\")\n",
    "    language: str = Field(description=\"language of text (should be ISO 639-1 code)\")"
   ]
  },
  {
   "cell_type": "code",
   "execution_count": null,
   "id": "993b4915-d0d2-4e9c-b70b-8e22de4c6bea",
   "metadata": {},
   "outputs": [],
   "source": [
    "convert_pydantic_to_openai_function(Tagging)"
   ]
  },
  {
   "cell_type": "code",
   "execution_count": null,
   "id": "c0c5f0b1-9153-4bae-b5c2-697f285de967",
   "metadata": {},
   "outputs": [],
   "source": [
    "from langchain.prompts import ChatPromptTemplate\n",
    "from langchain_openai import ChatOpenAI"
   ]
  },
  {
   "cell_type": "code",
   "execution_count": null,
   "id": "2b2e7c0f-5604-4217-a0e0-e547ab9fa8b6",
   "metadata": {},
   "outputs": [],
   "source": [
    "model = ChatOpenAI(temperature=0)"
   ]
  },
  {
   "cell_type": "code",
   "execution_count": null,
   "id": "56777e0d-5eff-461d-9701-cf701cae1233",
   "metadata": {},
   "outputs": [],
   "source": [
    "tagging_functions = [convert_pydantic_to_openai_function(Tagging)]"
   ]
  },
  {
   "cell_type": "code",
   "execution_count": null,
   "id": "ea79f42e-36ea-4ba3-8a3e-80d2cb91b407",
   "metadata": {},
   "outputs": [],
   "source": [
    "prompt = ChatPromptTemplate.from_messages([\n",
    "    (\"system\", \"Think carefully, and then tag the text as instructed\"),\n",
    "    (\"user\", \"{input}\")\n",
    "])"
   ]
  },
  {
   "cell_type": "code",
   "execution_count": null,
   "id": "915eac28-6350-471a-8a58-65b4ffda9a36",
   "metadata": {},
   "outputs": [],
   "source": [
    "model_with_functions = model.bind(\n",
    "    functions=tagging_functions,\n",
    "    function_call={\"name\": \"Tagging\"}\n",
    ")"
   ]
  },
  {
   "cell_type": "code",
   "execution_count": null,
   "id": "cf690632-b03a-4285-8c05-d52a0b06108c",
   "metadata": {},
   "outputs": [],
   "source": [
    "tagging_chain = prompt | model_with_functions "
   ]
  },
  {
   "cell_type": "code",
   "execution_count": null,
   "id": "03b876af-caa0-4609-a520-cd687209bb11",
   "metadata": {},
   "outputs": [],
   "source": [
    "tagging_chain.invoke({\"input\": \"I love langchain\"})"
   ]
  },
  {
   "cell_type": "code",
   "execution_count": null,
   "id": "39b81936-c129-4f23-bb86-d3282d9695a1",
   "metadata": {},
   "outputs": [],
   "source": [
    "tagging_chain.invoke({\"input\": \"non mi piace questo cibo\"})"
   ]
  },
  {
   "cell_type": "code",
   "execution_count": null,
   "id": "41be17ea-4fd3-402c-943f-65684231ea9b",
   "metadata": {},
   "outputs": [],
   "source": [
    "# Lets parse up the JSON from the AI Message:\n",
    "from langchain.output_parsers.openai_functions import JsonOutputFunctionsParser"
   ]
  },
  {
   "cell_type": "code",
   "execution_count": null,
   "id": "78eaa5d5-3ee8-471a-8e11-5b4d5042a179",
   "metadata": {},
   "outputs": [],
   "source": [
    "tagging_chain = prompt | model_with_functions | JsonOutputFunctionsParser()"
   ]
  },
  {
   "cell_type": "code",
   "execution_count": null,
   "id": "77227bf0-3944-4a04-be8b-9543c92f21d5",
   "metadata": {},
   "outputs": [],
   "source": [
    "tagging_chain.invoke({\"input\": \"Cette nourriture est terrible!\"})"
   ]
  },
  {
   "cell_type": "markdown",
   "id": "7986b69a-bd62-4a78-ac14-d76c6b5be1c8",
   "metadata": {},
   "source": [
    "# Extraction\n",
    "## Extraction is similar to tagging, but used for extracting multiple pieces of information"
   ]
  },
  {
   "cell_type": "code",
   "execution_count": null,
   "id": "b9875aac-39a4-4428-9cc0-b5590dea72ab",
   "metadata": {},
   "outputs": [],
   "source": [
    "from typing import Optional\n",
    "class Person(BaseModel):\n",
    "    \"\"\"Information about a person.\"\"\"\n",
    "    name: str = Field(description=\"person's name\")\n",
    "    age: Optional[int] = Field(description=\"person's age\")"
   ]
  },
  {
   "cell_type": "code",
   "execution_count": null,
   "id": "84679cf6-1c09-48f6-937f-d025d0b905d4",
   "metadata": {},
   "outputs": [],
   "source": [
    "class Information(BaseModel):\n",
    "    \"\"\"Information to extract.\"\"\"\n",
    "    people: List[Person] = Field(description=\"List of info about people\")"
   ]
  },
  {
   "cell_type": "code",
   "execution_count": null,
   "id": "1e07003e-e014-4c02-b5f6-09f829dcf80c",
   "metadata": {},
   "outputs": [],
   "source": [
    "convert_pydantic_to_openai_function(Information)"
   ]
  },
  {
   "cell_type": "code",
   "execution_count": null,
   "id": "0d6fe407-0611-4e3d-92e5-387f4bf13e68",
   "metadata": {},
   "outputs": [],
   "source": [
    "extraction_functions = [convert_pydantic_to_openai_function(Information)]\n",
    "extraction_model = model.bind(functions=extraction_functions, function_call={\"name\": \"Information\"})"
   ]
  },
  {
   "cell_type": "code",
   "execution_count": null,
   "id": "d129e46b-65d9-4252-8a94-3e0fe4c65f13",
   "metadata": {},
   "outputs": [],
   "source": [
    "extraction_model.invoke(\"Joe is 30, his mom is Martha and she is 65.\")"
   ]
  },
  {
   "cell_type": "code",
   "execution_count": null,
   "id": "106e3c66-0500-4ba4-ad1f-ad0348dd7521",
   "metadata": {},
   "outputs": [],
   "source": [
    "prompt = ChatPromptTemplate.from_messages([\n",
    "    (\"system\", \"Extract the relevant information, if not explicitly provided do not guess. Extract partial info and don't provide data that has no info.\"),\n",
    "    (\"human\", \"{input}\")\n",
    "])"
   ]
  },
  {
   "cell_type": "code",
   "execution_count": null,
   "id": "ed3ded01-9ab4-4156-8cc9-f89dd18af078",
   "metadata": {},
   "outputs": [],
   "source": [
    "extraction_chain = prompt | extraction_model"
   ]
  },
  {
   "cell_type": "code",
   "execution_count": null,
   "id": "5fa6f3d6-9973-43f4-8737-0ebcab9a2c31",
   "metadata": {},
   "outputs": [],
   "source": [
    "extraction_chain.invoke({\"input\": \"Joe is 30, his mom is Martha and she is 65.\"})"
   ]
  },
  {
   "cell_type": "code",
   "execution_count": null,
   "id": "ae5d238f-3693-4383-ac3e-06f016dfc199",
   "metadata": {},
   "outputs": [],
   "source": [
    "extraction_chain = prompt | extraction_model | JsonOutputFunctionsParser()"
   ]
  },
  {
   "cell_type": "code",
   "execution_count": null,
   "id": "becaa9f1-84d9-481a-a3a6-7955628e1f59",
   "metadata": {},
   "outputs": [],
   "source": [
    "extraction_chain.invoke({\"input\": \"Joe is 30, his mom is Martha and she is 65.\"})"
   ]
  },
  {
   "cell_type": "code",
   "execution_count": null,
   "id": "5415d06a-0666-488d-a1dd-9f111aa21675",
   "metadata": {},
   "outputs": [],
   "source": [
    "# Will look for a particular key in the output and extract only that:\n",
    "from langchain.output_parsers.openai_functions import JsonKeyOutputFunctionsParser"
   ]
  },
  {
   "cell_type": "code",
   "execution_count": null,
   "id": "f7da9532-1e78-472c-973b-e580d7544b12",
   "metadata": {},
   "outputs": [],
   "source": [
    "extraction_chain = prompt | extraction_model | JsonKeyOutputFunctionsParser(key_name=\"people\")"
   ]
  },
  {
   "cell_type": "code",
   "execution_count": null,
   "id": "59aed619-2db5-4777-8d70-b586bd175924",
   "metadata": {},
   "outputs": [],
   "source": [
    "extraction_chain.invoke({\"input\": \"Joe is 30, his mom is Martha and she is 65.\"})"
   ]
  },
  {
   "cell_type": "markdown",
   "id": "def93467-5bf5-4aaa-b6a7-aaf921d6c7cd",
   "metadata": {},
   "source": [
    "# Applying and doing it for real"
   ]
  },
  {
   "cell_type": "code",
   "execution_count": null,
   "id": "b1371a8e-f1aa-4243-901a-64ef21f4ef05",
   "metadata": {},
   "outputs": [],
   "source": [
    "# Loading a blog post and extracting tag information from a sub-set of the text:\n",
    "from langchain.document_loaders import WebBaseLoader\n",
    "loader = WebBaseLoader(\"https://www.cio.com/article/480408/making-sense-of-sap-rise-4-key-considerations.html\")\n",
    "documents = loader.load()"
   ]
  },
  {
   "cell_type": "code",
   "execution_count": null,
   "id": "9c59bc52-60cc-4594-95fb-e0f1c270f587",
   "metadata": {},
   "outputs": [],
   "source": [
    "doc = documents[0]"
   ]
  },
  {
   "cell_type": "code",
   "execution_count": null,
   "id": "a0f238a8-caaf-4751-b1ea-cc4c75e1612f",
   "metadata": {},
   "outputs": [],
   "source": [
    "# Get first 10000 words of the document:\n",
    "page_content = doc.page_content[:10000]"
   ]
  },
  {
   "cell_type": "code",
   "execution_count": null,
   "id": "e43562b9-fac3-47f1-8f7f-f6e6bf341af6",
   "metadata": {},
   "outputs": [],
   "source": [
    "print(page_content[:1000])"
   ]
  },
  {
   "cell_type": "code",
   "execution_count": null,
   "id": "80826c3c-57c3-4f83-a0d7-18e714a48648",
   "metadata": {},
   "outputs": [],
   "source": [
    "class Overview(BaseModel):\n",
    "    \"\"\"Overview of a section of text.\"\"\"\n",
    "    summary: str = Field(description=\"Provide a concise summary of the content.\")\n",
    "    language: str = Field(description=\"Provide the language that the content is written in.\")\n",
    "    keywords: str = Field(description=\"Provide keywords related to the content.\")"
   ]
  },
  {
   "cell_type": "code",
   "execution_count": null,
   "id": "d6bd5fd1-c8ca-4fba-bf3f-d843cf70c395",
   "metadata": {},
   "outputs": [],
   "source": [
    "overview_tagging_function = [\n",
    "    convert_pydantic_to_openai_function(Overview)\n",
    "]\n",
    "tagging_model = model.bind(\n",
    "    functions=overview_tagging_function,\n",
    "    function_call={\"name\":\"Overview\"}\n",
    ")\n",
    "tagging_chain = prompt | tagging_model | JsonOutputFunctionsParser()"
   ]
  },
  {
   "cell_type": "code",
   "execution_count": null,
   "id": "53e62e46-b933-4f52-b27f-d1c346e6fd5b",
   "metadata": {},
   "outputs": [],
   "source": [
    "tagging_chain.invoke({\"input\": page_content})"
   ]
  },
  {
   "cell_type": "code",
   "execution_count": null,
   "id": "5631a27a-139e-4646-9331-409744f5fddf",
   "metadata": {},
   "outputs": [],
   "source": [
    "class Considerations(BaseModel):\n",
    "    \"\"\"Information about the key considerations mentioned.\"\"\"\n",
    "    key_consideration: str\n",
    "    summary: str\n",
    "\n",
    "\n",
    "class Info(BaseModel):\n",
    "    \"\"\"Information to extract\"\"\"\n",
    "    key_considerations: List[Considerations]\n",
    "    "
   ]
  },
  {
   "cell_type": "code",
   "execution_count": null,
   "id": "92437308-0924-4023-8def-a0b4d821c67b",
   "metadata": {},
   "outputs": [],
   "source": [
    "considerations_extraction_function = [\n",
    "    convert_pydantic_to_openai_function(Info)\n",
    "]\n",
    "extraction_model = model.bind(\n",
    "    functions=considerations_extraction_function, \n",
    "    function_call={\"name\":\"Info\"}\n",
    ")\n",
    "extraction_chain = prompt | extraction_model | JsonKeyOutputFunctionsParser(key_name=\"key_considerations\")"
   ]
  },
  {
   "cell_type": "code",
   "execution_count": null,
   "id": "591c52cd-6c21-420f-987f-89e37bd25669",
   "metadata": {},
   "outputs": [],
   "source": [
    "extraction_chain.invoke({\"input\": page_content})"
   ]
  },
  {
   "cell_type": "code",
   "execution_count": null,
   "id": "2f169713-b755-46cc-95c0-e4b7f9845bff",
   "metadata": {},
   "outputs": [],
   "source": [
    "template = \"\"\"A article will be passed to you. Extract from it all the key considerations about SAP RISE that are mentioned by this article. \n",
    "\n",
    "Provide a clear and concise summary of all key considerations involved. \n",
    "\n",
    "Do not make up or guess ANY extra information. Only extract what exactly is in the text.\"\"\"\n",
    "\n",
    "prompt = ChatPromptTemplate.from_messages([\n",
    "    (\"system\", template),\n",
    "    (\"human\", \"{input}\")\n",
    "])"
   ]
  },
  {
   "cell_type": "code",
   "execution_count": null,
   "id": "a15c8b66-8968-4284-aa07-75b7fd57423a",
   "metadata": {},
   "outputs": [],
   "source": [
    "extraction_chain = prompt | extraction_model | JsonKeyOutputFunctionsParser(key_name=\"key_considerations\")"
   ]
  },
  {
   "cell_type": "code",
   "execution_count": null,
   "id": "30285fee-f958-40b2-b715-d1a07d339dd4",
   "metadata": {},
   "outputs": [],
   "source": [
    "extraction_chain.invoke({\"input\": page_content})"
   ]
  },
  {
   "cell_type": "code",
   "execution_count": null,
   "id": "529f4c41-9d4e-41b7-8009-7a7036255440",
   "metadata": {},
   "outputs": [],
   "source": [
    "# Splitting into smaller chunks of text:\n",
    "from langchain.text_splitter import RecursiveCharacterTextSplitter\n",
    "text_splitter = RecursiveCharacterTextSplitter(chunk_overlap=0)"
   ]
  },
  {
   "cell_type": "code",
   "execution_count": null,
   "id": "162b724f-b103-4dcf-b72c-ba83917c31d3",
   "metadata": {},
   "outputs": [],
   "source": [
    "splits = text_splitter.split_text(doc.page_content)"
   ]
  },
  {
   "cell_type": "code",
   "execution_count": null,
   "id": "37b0f46c-4d7b-48cc-b742-31e0c505910e",
   "metadata": {},
   "outputs": [],
   "source": [
    "len(splits)"
   ]
  },
  {
   "cell_type": "code",
   "execution_count": null,
   "id": "61a3cc47-0156-44aa-a276-047da0851de3",
   "metadata": {},
   "outputs": [],
   "source": [
    "def flatten(matrix):\n",
    "    flat_list = []\n",
    "    for row in matrix:\n",
    "        flat_list += row\n",
    "    return flat_list"
   ]
  },
  {
   "cell_type": "code",
   "execution_count": null,
   "id": "8773380b-36f7-478d-9c5e-02bbf9b3d5d9",
   "metadata": {},
   "outputs": [],
   "source": [
    "flatten([[1, 2], [3, 4]])"
   ]
  },
  {
   "cell_type": "code",
   "execution_count": null,
   "id": "01f8f1e1-e7c4-4052-bde7-299d790c2de1",
   "metadata": {},
   "outputs": [],
   "source": [
    "print(splits[0])"
   ]
  },
  {
   "cell_type": "code",
   "execution_count": null,
   "id": "9e4fef3c-f436-4423-ac8e-a308fdc5bc07",
   "metadata": {},
   "outputs": [],
   "source": [
    "from langchain.schema.runnable import RunnableLambda"
   ]
  },
  {
   "cell_type": "code",
   "execution_count": null,
   "id": "91acd552-b530-45a7-930d-53abd0daee86",
   "metadata": {},
   "outputs": [],
   "source": [
    "prep = RunnableLambda(\n",
    "    lambda x: [{\"input\": doc} for doc in text_splitter.split_text(x)]\n",
    ")"
   ]
  },
  {
   "cell_type": "code",
   "execution_count": null,
   "id": "eed06c32-a46f-4b2f-ae42-60d5e020563c",
   "metadata": {},
   "outputs": [],
   "source": [
    "prep.invoke(\"what is SAP RISE?\")"
   ]
  },
  {
   "cell_type": "code",
   "execution_count": null,
   "id": "763ac779-4d4e-4307-9996-3e684d526ba8",
   "metadata": {},
   "outputs": [],
   "source": [
    "chain = prep | extraction_chain.map() | flatten"
   ]
  },
  {
   "cell_type": "code",
   "execution_count": null,
   "id": "041d8f39-cc99-415d-a3ae-a456053ab8a9",
   "metadata": {},
   "outputs": [],
   "source": [
    "chain.invoke(doc.page_content)"
   ]
  },
  {
   "cell_type": "code",
   "execution_count": null,
   "id": "76df6156-dbbb-412a-a620-17b55f128741",
   "metadata": {},
   "outputs": [],
   "source": []
  }
 ],
 "metadata": {
  "kernelspec": {
   "display_name": "Python 3 (ipykernel)",
   "language": "python",
   "name": "python3"
  },
  "language_info": {
   "codemirror_mode": {
    "name": "ipython",
    "version": 3
   },
   "file_extension": ".py",
   "mimetype": "text/x-python",
   "name": "python",
   "nbconvert_exporter": "python",
   "pygments_lexer": "ipython3",
   "version": "3.11.7"
  }
 },
 "nbformat": 4,
 "nbformat_minor": 5
}
