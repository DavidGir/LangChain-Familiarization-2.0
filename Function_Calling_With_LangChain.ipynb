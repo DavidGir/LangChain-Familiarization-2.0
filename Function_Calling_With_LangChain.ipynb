{
 "cells": [
  {
   "cell_type": "markdown",
   "id": "410ef0d7-af72-4e7a-a0c9-815d29bf2268",
   "metadata": {},
   "source": [
    "# OpenAI Function Calling In LangChain"
   ]
  },
  {
   "cell_type": "code",
   "execution_count": null,
   "id": "0e6419ed-1b32-4810-a94e-4b62f49e328a",
   "metadata": {},
   "outputs": [],
   "source": [
    "import os\n",
    "import openai\n",
    "\n",
    "from dotenv import load_dotenv, find_dotenv\n",
    "_ = load_dotenv(find_dotenv()) # read local .env file\n",
    "openai.api_key = os.environ['OPENAI_API_KEY']"
   ]
  },
  {
   "cell_type": "code",
   "execution_count": null,
   "id": "1e1465df-58e6-4876-9752-e26cf0683d73",
   "metadata": {},
   "outputs": [],
   "source": [
    "from typing import List\n",
    "from pydantic import BaseModel, Field"
   ]
  },
  {
   "cell_type": "code",
   "execution_count": null,
   "id": "f9fa4106-f08b-46b6-82cd-7f6e32a80b8a",
   "metadata": {},
   "outputs": [],
   "source": [
    "# This is a normal Python class:\n",
    "class User:\n",
    "    def __init__(self, name: str, age: int, email: str):\n",
    "        self.name = name\n",
    "        self.age = age\n",
    "        self.email = email"
   ]
  },
  {
   "cell_type": "code",
   "execution_count": null,
   "id": "66c00afb-87b1-4a50-b765-4eca002ac207",
   "metadata": {},
   "outputs": [],
   "source": [
    "# If we create an instance; its like any normall instance:\n",
    "foo = User(name=\"Joe\",age=32, email=\"joe@gmail.com\")"
   ]
  },
  {
   "cell_type": "code",
   "execution_count": null,
   "id": "a8aad7a7-6a87-4f9d-b3e5-3f770fc4656f",
   "metadata": {},
   "outputs": [],
   "source": [
    "foo.name"
   ]
  },
  {
   "cell_type": "code",
   "execution_count": null,
   "id": "960023d3-c696-4f59-85b5-725a892704f1",
   "metadata": {},
   "outputs": [],
   "source": [
    "foo.age"
   ]
  },
  {
   "cell_type": "code",
   "execution_count": null,
   "id": "af22bdee-8359-4f18-bb74-475e7ab87414",
   "metadata": {},
   "outputs": [],
   "source": [
    "# Now using pydantic:\n",
    "class pUser(BaseModel):\n",
    "    name: str\n",
    "    age: int\n",
    "    email: str"
   ]
  },
  {
   "cell_type": "code",
   "execution_count": null,
   "id": "51a12488-d5ba-4309-ba4c-a87c0ca29be7",
   "metadata": {},
   "outputs": [],
   "source": [
    "foo_p = pUser(name=\"Jane\", age=32, email=\"jane@gmail.com\")"
   ]
  },
  {
   "cell_type": "code",
   "execution_count": null,
   "id": "52a38077-75f4-4c2f-9d81-868fc171e12e",
   "metadata": {},
   "outputs": [],
   "source": [
    "# It can print out the whole object and its different elements due to pydantic:\n",
    "foo_p"
   ]
  },
  {
   "cell_type": "code",
   "execution_count": null,
   "id": "4ada95c8-8d2b-4d4f-b994-b49a3d9bdccb",
   "metadata": {},
   "outputs": [],
   "source": [
    "foo_p.name"
   ]
  },
  {
   "cell_type": "code",
   "execution_count": null,
   "id": "0cd0e2da-39ac-45af-ae33-8d8e8c6e75c9",
   "metadata": {},
   "outputs": [],
   "source": [
    "# Now if we pass in a string under the age attribute when its clearly defined as an int type we will see a validation error:\n",
    "foo_p = pUser(name=\"Jane\", age=\"bar\", email=\"jane@gmail.com\")"
   ]
  },
  {
   "cell_type": "code",
   "execution_count": null,
   "id": "f885db66-4b5a-45a8-be17-627d607c1ed1",
   "metadata": {},
   "outputs": [],
   "source": [
    "# Another thing about pydantic is that we can nest data structures:\n",
    "class Class(BaseModel):\n",
    "    students: List[pUser]"
   ]
  },
  {
   "cell_type": "code",
   "execution_count": null,
   "id": "309da86a-2a7f-419b-8bc3-1631ee764fc5",
   "metadata": {},
   "outputs": [],
   "source": [
    "# We can create an object that has the exact same structure:\n",
    "obj = Class(\n",
    "    students=[pUser(name=\"Jane\", age=32, email=\"jane@gmail.com\")]\n",
    ")"
   ]
  },
  {
   "cell_type": "code",
   "execution_count": null,
   "id": "dd53433e-07d0-4050-ae01-d368a32b7433",
   "metadata": {},
   "outputs": [],
   "source": [
    "obj"
   ]
  },
  {
   "cell_type": "markdown",
   "id": "8dc86387-4a5e-43ba-9c0a-a76aea09b859",
   "metadata": {},
   "source": [
    "# Using Pydantic to create OpenAI function definitions"
   ]
  },
  {
   "cell_type": "code",
   "execution_count": null,
   "id": "d4e7c1df-44e4-40b2-9e9f-634d875825cf",
   "metadata": {},
   "outputs": [],
   "source": [
    "class WeatherSearch(BaseModel):\n",
    "    # Docstring:\n",
    "    \"\"\"Call this with an airport code to get the weather at that airport\"\"\"\n",
    "    airport_code: str = Field(description=\"airport code to get weather for\")"
   ]
  },
  {
   "cell_type": "code",
   "execution_count": null,
   "id": "f5eafb8f-9a89-497d-9f74-27049cf55ab1",
   "metadata": {},
   "outputs": [],
   "source": [
    "from langchain_core.utils.function_calling import convert_pydantic_to_openai_function"
   ]
  },
  {
   "cell_type": "code",
   "execution_count": null,
   "id": "ff49a8b4-c04d-4b2e-8a48-d4ee18a7f5c8",
   "metadata": {},
   "outputs": [],
   "source": [
    "weather_function = convert_pydantic_to_openai_function(WeatherSearch)"
   ]
  },
  {
   "cell_type": "code",
   "execution_count": null,
   "id": "1e4ea1c6-1294-4c15-b793-c1d1f686b6d4",
   "metadata": {},
   "outputs": [],
   "source": [
    "weather_function"
   ]
  },
  {
   "cell_type": "code",
   "execution_count": null,
   "id": "89c83f28-7e3f-42ee-852d-5ce1f0133b0a",
   "metadata": {},
   "outputs": [],
   "source": [
    "class WeatherSearch1(BaseModel):\n",
    "    airport_code: str = Field(description=\"airport code to get weather for\")"
   ]
  },
  {
   "cell_type": "code",
   "execution_count": null,
   "id": "6c9f1c82-2aa8-4855-92b6-48b11f310540",
   "metadata": {},
   "outputs": [],
   "source": [
    "convert_pydantic_to_openai_function(WeatherSearch1)"
   ]
  },
  {
   "cell_type": "code",
   "execution_count": null,
   "id": "7584b106-d018-4178-b492-9639dd82d135",
   "metadata": {},
   "outputs": [],
   "source": [
    "from langchain_openai import ChatOpenAI"
   ]
  },
  {
   "cell_type": "code",
   "execution_count": null,
   "id": "2229213a-3cbb-45c6-8d25-4ba85d735918",
   "metadata": {},
   "outputs": [],
   "source": [
    "model = ChatOpenAI()"
   ]
  },
  {
   "cell_type": "code",
   "execution_count": null,
   "id": "a7e96f11-d708-4a8e-a909-f72bd76cf556",
   "metadata": {},
   "outputs": [],
   "source": [
    "model.invoke(\"what is the weather in SF today?\", functions=[weather_function])"
   ]
  },
  {
   "cell_type": "code",
   "execution_count": null,
   "id": "ea5b0292-7c1e-4c27-8515-f290f55e9963",
   "metadata": {},
   "outputs": [],
   "source": [
    "model_with_function = model.bind(functions=[weather_function])"
   ]
  },
  {
   "cell_type": "code",
   "execution_count": null,
   "id": "250ab525-79a8-4522-939f-4c26ea197b1e",
   "metadata": {},
   "outputs": [],
   "source": [
    "model_with_function.invoke(\"what is the weather in SF?\")"
   ]
  },
  {
   "cell_type": "code",
   "execution_count": null,
   "id": "2441f08a-93ef-4157-8145-ed076af20ad4",
   "metadata": {},
   "outputs": [],
   "source": [
    "model_with_forced_function = model.bind(functions=[weather_function], function_call={\"name\":\"WeatherSearch\"})"
   ]
  },
  {
   "cell_type": "code",
   "execution_count": null,
   "id": "d36b0644-ed62-40e0-849e-fe5cfd807afc",
   "metadata": {},
   "outputs": [],
   "source": [
    "model_with_forced_function.invoke(\"what is the weather in sf?\")"
   ]
  },
  {
   "cell_type": "code",
   "execution_count": null,
   "id": "7e48f1cb-7103-452a-95d3-4353a8e00986",
   "metadata": {},
   "outputs": [],
   "source": [
    "model_with_forced_function.invoke(\"hi!\")"
   ]
  },
  {
   "cell_type": "markdown",
   "id": "c0be49d1-e45d-45b9-8caf-20f8a2f43faf",
   "metadata": {},
   "source": [
    "# Using in a chain \n",
    "## We can use this model bound to function in a chain as we normally would "
   ]
  },
  {
   "cell_type": "code",
   "execution_count": null,
   "id": "f931f372-b72d-49bf-8fe4-35b8ddf1b50b",
   "metadata": {},
   "outputs": [],
   "source": [
    "from langchain.prompts import ChatPromptTemplate"
   ]
  },
  {
   "cell_type": "code",
   "execution_count": null,
   "id": "ae56a5a0-3f27-43b9-bf20-bb9a69b896a3",
   "metadata": {},
   "outputs": [],
   "source": [
    "prompt = ChatPromptTemplate.from_messages([\n",
    "    (\"system\", \"You are a helpful assistant\"),\n",
    "    (\"user\", \"{input}\")\n",
    "])"
   ]
  },
  {
   "cell_type": "code",
   "execution_count": null,
   "id": "afae5d8f-4ff5-4b59-872f-9a82bf03963d",
   "metadata": {},
   "outputs": [],
   "source": [
    "chain = prompt | model_with_function"
   ]
  },
  {
   "cell_type": "code",
   "execution_count": null,
   "id": "c2f48841-5935-462b-a204-300c934a7769",
   "metadata": {},
   "outputs": [],
   "source": [
    "chain.invoke({\"input\": \"what is the weather in sf?\"})"
   ]
  },
  {
   "cell_type": "markdown",
   "id": "4cc486fb-8877-423e-ae7c-c13647519c0e",
   "metadata": {},
   "source": [
    "# Using multiple functions\n",
    "## EVen better, we can pass a set of function and let the LLM decide which to use based on the question context"
   ]
  },
  {
   "cell_type": "code",
   "execution_count": null,
   "id": "e96cf04e-07b3-4ba3-ab0c-3eefb7fbd527",
   "metadata": {},
   "outputs": [],
   "source": [
    "class ArtistSearch(BaseModel):\n",
    "    \"\"\"Call this to get the names of songs by a particular artist\"\"\"\n",
    "    artist_name: str = Field(description=\"name of artist to look up\")\n",
    "    n: int = Field(description=\"number of results\")"
   ]
  },
  {
   "cell_type": "code",
   "execution_count": null,
   "id": "a71ebe39-fbe8-43d4-9fe6-bec34c0711a7",
   "metadata": {},
   "outputs": [],
   "source": [
    "functions = [\n",
    "    convert_pydantic_to_openai_function(WeatherSearch),\n",
    "    convert_pydantic_to_openai_function(ArtistSearch),\n",
    "]"
   ]
  },
  {
   "cell_type": "code",
   "execution_count": null,
   "id": "3d2bb3ca-cb38-49d3-a59a-892c1bbca551",
   "metadata": {},
   "outputs": [],
   "source": [
    "model_with_functions = model.bind(functions=functions)"
   ]
  },
  {
   "cell_type": "code",
   "execution_count": null,
   "id": "e557dea2-65ab-48fd-871b-ae59c64db3da",
   "metadata": {},
   "outputs": [],
   "source": [
    "model_with_functions.invoke(\"what is the weather in sf?\")"
   ]
  },
  {
   "cell_type": "code",
   "execution_count": null,
   "id": "dee533de-7e30-41d4-8e91-97c4d45e1619",
   "metadata": {},
   "outputs": [],
   "source": [
    "model_with_functions.invoke(\"what are three songs by Eminem?\")"
   ]
  },
  {
   "cell_type": "code",
   "execution_count": null,
   "id": "9282abe6-137d-4f1e-b698-16fb1a950c67",
   "metadata": {},
   "outputs": [],
   "source": []
  }
 ],
 "metadata": {
  "kernelspec": {
   "display_name": "Python 3 (ipykernel)",
   "language": "python",
   "name": "python3"
  },
  "language_info": {
   "codemirror_mode": {
    "name": "ipython",
    "version": 3
   },
   "file_extension": ".py",
   "mimetype": "text/x-python",
   "name": "python",
   "nbconvert_exporter": "python",
   "pygments_lexer": "ipython3",
   "version": "3.11.7"
  }
 },
 "nbformat": 4,
 "nbformat_minor": 5
}
