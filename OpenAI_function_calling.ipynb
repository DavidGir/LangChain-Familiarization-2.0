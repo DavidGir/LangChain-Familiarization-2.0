{
 "cells": [
  {
   "cell_type": "markdown",
   "id": "817036db-0f5f-4084-b02e-835d8f361b9e",
   "metadata": {},
   "source": [
    "# OpenAI Function Calling "
   ]
  },
  {
   "cell_type": "code",
   "execution_count": null,
   "id": "5646d516-5765-4ac9-9baa-397ed4ea44dc",
   "metadata": {},
   "outputs": [],
   "source": [
    "import os \n",
    "import openai\n",
    "\n",
    "from dotenv import load_dotenv, find_dotenv\n",
    "_ = load_dotenv(find_dotenv()) # read local .env file\n",
    "openai.api_key = os.environ['OPENAI_API_KEY']"
   ]
  },
  {
   "cell_type": "code",
   "execution_count": null,
   "id": "dbe3489f-59af-4f21-82c5-eb24f0f12c05",
   "metadata": {},
   "outputs": [],
   "source": [
    "import json\n",
    "\n",
    "# Example dummy function hard coded to return the same weather\n",
    "# In production, this could be your backend API or an external API\n",
    "def get_current_weather(location, unit=\"fahrenheit\"):\n",
    "    \"\"\"Get the current weather in a given location\"\"\"\n",
    "    weather_info = {\n",
    "        \"location\": location,\n",
    "        \"temperature\": \"72\",\n",
    "        \"unit\": unit,\n",
    "        \"forecast\": [\"sunny\", \"windy\"],\n",
    "    }\n",
    "    return json.dumps(weather_info)"
   ]
  },
  {
   "cell_type": "code",
   "execution_count": null,
   "id": "7ad4f2c4-892a-443b-9095-c50bbb382654",
   "metadata": {},
   "outputs": [],
   "source": [
    "# define a function\n",
    "functions = [\n",
    "    {\n",
    "        \"name\": \"get_current_weather\",\n",
    "        \"description\": \"Get the current weather in a given location\",\n",
    "        \"parameters\": {\n",
    "            \"type\": \"object\",\n",
    "            \"properties\": {\n",
    "                \"location\": {\n",
    "                    \"type\": \"string\",\n",
    "                    \"description\": \"The city and state, e.g. San Francisco, CA\",\n",
    "                },\n",
    "                \"unit\": {\"type\": \"string\", \"enum\": [\"celsius\", \"fahrenheit\"]},\n",
    "            },\n",
    "            \"required\": [\"location\"],\n",
    "        },\n",
    "    }\n",
    "]"
   ]
  },
  {
   "cell_type": "code",
   "execution_count": null,
   "id": "e57a898a-ed45-4926-8166-a020b783cca5",
   "metadata": {},
   "outputs": [],
   "source": [
    "messages = [\n",
    "    {\n",
    "        \"role\": \"user\",\n",
    "        \"content\": \"What's the weather like in Boston?\"\n",
    "    }\n",
    "]"
   ]
  },
  {
   "cell_type": "code",
   "execution_count": null,
   "id": "92430182-d071-44f9-907b-c490b815c79b",
   "metadata": {},
   "outputs": [],
   "source": [
    "# The response below is not a string but a custom Python object provided by the openai library\n",
    "# And so we need to convert the response object preferably as a dictionary\n",
    "response = openai.chat.completions.create(\n",
    "    model=\"gpt-3.5-turbo-0613\",\n",
    "    messages=messages,\n",
    "    functions=functions\n",
    ")"
   ]
  },
  {
   "cell_type": "code",
   "execution_count": null,
   "id": "222efdcb-3365-4554-8d83-f16f2dde3ce5",
   "metadata": {},
   "outputs": [],
   "source": [
    "# Convert the response to a JSON-formatted string \n",
    "response_json = response.json()\n",
    "# Load the JSON string into a Python dictionary \n",
    "response_dict = json.loads(response_json)"
   ]
  },
  {
   "cell_type": "code",
   "execution_count": null,
   "id": "b9127265-0ff4-4cf4-bb64-ecf31969f1bd",
   "metadata": {},
   "outputs": [],
   "source": [
    "print(response_dict)"
   ]
  },
  {
   "cell_type": "code",
   "execution_count": null,
   "id": "f22d6b3a-7e30-49e0-94a0-9a90f5e441e7",
   "metadata": {},
   "outputs": [],
   "source": [
    "# The response message is now subscriptable \n",
    "response_message = response_dict[\"choices\"][0][\"message\"]"
   ]
  },
  {
   "cell_type": "code",
   "execution_count": null,
   "id": "d9c4fd2a-d8df-4e8b-9e33-6654b543cd72",
   "metadata": {},
   "outputs": [],
   "source": [
    "response_message"
   ]
  },
  {
   "cell_type": "code",
   "execution_count": null,
   "id": "46353a61-26ef-444f-9ae1-25ba9bc633ae",
   "metadata": {},
   "outputs": [],
   "source": [
    "response_message[\"content\"]"
   ]
  },
  {
   "cell_type": "code",
   "execution_count": null,
   "id": "26bc1d34-2f3c-465c-a4e7-b308fa9433e3",
   "metadata": {},
   "outputs": [],
   "source": [
    "response_message[\"function_call\"]"
   ]
  },
  {
   "cell_type": "code",
   "execution_count": null,
   "id": "bed225cb-7115-4f08-a760-0d910b2d9ac1",
   "metadata": {},
   "outputs": [],
   "source": [
    "json.loads(response_message[\"function_call\"][\"arguments\"])"
   ]
  },
  {
   "cell_type": "code",
   "execution_count": null,
   "id": "a9fca8ff-3e8c-49a8-bd9e-881b569071f4",
   "metadata": {},
   "outputs": [],
   "source": [
    "args = json.loads(response_message['function_call']['arguments'])"
   ]
  },
  {
   "cell_type": "code",
   "execution_count": null,
   "id": "3d788726-be05-4cfa-bb61-5815631cbba9",
   "metadata": {},
   "outputs": [],
   "source": [
    "observation = get_current_weather(args)"
   ]
  },
  {
   "cell_type": "code",
   "execution_count": null,
   "id": "68394a39-97a4-486f-9c49-65f94b3172c8",
   "metadata": {},
   "outputs": [],
   "source": [
    "# Let's try by passing a message that is not related to the weather function:\n",
    "# messages = [\n",
    "#     {\n",
    "#         \"role\": \"user\",\n",
    "#         \"content\": \"hi!\",\n",
    "#     }\n",
    "# ]"
   ]
  },
  {
   "cell_type": "code",
   "execution_count": null,
   "id": "a9bd62ae-5e53-47b8-8976-90c2e8e8491f",
   "metadata": {},
   "outputs": [],
   "source": [
    "# response = openai.chat.completions.create(\n",
    "#     model=\"gpt-3.5-turbo-0613\",\n",
    "#     messages=messages,\n",
    "#     functions=functions,\n",
    "# )"
   ]
  },
  {
   "cell_type": "code",
   "execution_count": null,
   "id": "4a7115c4-08e3-4575-ba90-4cae7db9a759",
   "metadata": {},
   "outputs": [],
   "source": [
    "# We will see that there is no function call in the response:\n",
    "# print(response)"
   ]
  },
  {
   "cell_type": "code",
   "execution_count": null,
   "id": "ba6ebfbc-6f1a-44b5-9863-14f78cf01df4",
   "metadata": {},
   "outputs": [],
   "source": [
    "# messages = [\n",
    "#     {\n",
    "#         \"role\": \"user\",\n",
    "#         \"content\": \"hi!\",\n",
    "#     }\n",
    "# ]\n",
    "# # Pass in the function_call param as default to auto; the LLM will chose whether to use the function based off the message:\n",
    "# response = openai.chat.completions.create(\n",
    "#     model=\"gpt-3.5-turbo-0613\",\n",
    "#     messages=messages,\n",
    "#     functions=functions,\n",
    "#     function_call=\"auto\",\n",
    "# )\n",
    "# print(response)"
   ]
  },
  {
   "cell_type": "code",
   "execution_count": null,
   "id": "afad6855-d872-4f4f-8a15-6521a55725f5",
   "metadata": {},
   "outputs": [],
   "source": [
    "# Setting function_call to none forces the model not to use any of the functions provided even if the message should call the function:\n",
    "# messages = [\n",
    "#     {\n",
    "#         \"role\": \"user\",\n",
    "#         \"content\": \"What's the weather in Boston?\",\n",
    "#     }\n",
    "# ]\n",
    "# response = openai.chat.completions.create(\n",
    "#     model=\"gpt-3.5-turbo-0613\",\n",
    "#     messages=messages,\n",
    "#     functions=functions,\n",
    "#     function_call=\"none\",\n",
    "# )\n",
    "# print(response)"
   ]
  },
  {
   "cell_type": "code",
   "execution_count": null,
   "id": "734d2b48-b574-44f0-9772-d52f9e1c88f6",
   "metadata": {},
   "outputs": [],
   "source": [
    "# The following is forcing the model to call a function even if the message is not related to said function:\n",
    "# messages = [\n",
    "#     {\n",
    "#         \"role\": \"user\",\n",
    "#         \"content\": \"hi!\",\n",
    "#     }\n",
    "# ]\n",
    "# response = openai.chat.completions.create(\n",
    "#     model=\"gpt-3.5-turbo-0613\",\n",
    "#     messages=messages,\n",
    "#     functions=functions,\n",
    "#     function_call={\"name\": \"get_current_weather\"},\n",
    "# )\n",
    "# print(response)"
   ]
  },
  {
   "cell_type": "code",
   "execution_count": null,
   "id": "39a9ea2e-1a19-4dda-8ba3-7de2bc92127e",
   "metadata": {},
   "outputs": [],
   "source": [
    "# # Convert the response to a JSON-formatted string \n",
    "# response_json = response.json()\n",
    "# # Load the JSON string into a Python dictionary \n",
    "# response_dict = json.loads(response_json)"
   ]
  },
  {
   "cell_type": "code",
   "execution_count": null,
   "id": "eabc79a4-1bfc-4029-b582-d5e11a793727",
   "metadata": {},
   "outputs": [],
   "source": [
    "# response_dict[\"choices\"][0][\"message\"]"
   ]
  },
  {
   "cell_type": "code",
   "execution_count": null,
   "id": "fd1a313c-3520-4b29-8d62-3c48f90f7eff",
   "metadata": {},
   "outputs": [],
   "source": [
    "# messages.append(response_dict[\"choices\"][0][\"message\"])"
   ]
  },
  {
   "cell_type": "code",
   "execution_count": null,
   "id": "f0c7ca65-de82-4203-9e30-55bb208df80c",
   "metadata": {},
   "outputs": [],
   "source": [
    "# print(messages)"
   ]
  },
  {
   "cell_type": "code",
   "execution_count": null,
   "id": "2c687fb1-3c14-4f19-979a-5dce31f666ec",
   "metadata": {},
   "outputs": [],
   "source": [
    "# args = json.loads(response_dict[\"choices\"][0][\"message\"]['function_call']['arguments'])\n",
    "# print(args)\n",
    "# observation = get_current_weather(args)"
   ]
  },
  {
   "cell_type": "code",
   "execution_count": null,
   "id": "7d0976e8-3f03-4d51-9afd-670246eb8ac4",
   "metadata": {},
   "outputs": [],
   "source": [
    "messages.append(\n",
    "        {\n",
    "            \"role\": \"function\",\n",
    "            \"name\": \"get_current_weather\",\n",
    "            \"content\": observation,\n",
    "        }\n",
    ")\n",
    "print(messages)"
   ]
  },
  {
   "cell_type": "code",
   "execution_count": null,
   "id": "a24c7ebb-988e-4914-a75e-2f68e603d2a9",
   "metadata": {},
   "outputs": [],
   "source": [
    "response = openai.chat.completions.create(\n",
    "    model=\"gpt-3.5-turbo-0613\",\n",
    "    messages=messages,\n",
    ")\n",
    "\n",
    "print(response)"
   ]
  },
  {
   "cell_type": "code",
   "execution_count": null,
   "id": "45f9ccc1-6d0f-42d9-9663-e0b742619d6c",
   "metadata": {},
   "outputs": [],
   "source": [
    "response_json = response.json()"
   ]
  },
  {
   "cell_type": "code",
   "execution_count": null,
   "id": "0b5310d0-6b78-4069-aba2-6f870d9120cf",
   "metadata": {},
   "outputs": [],
   "source": [
    "response_dict = json.loads(response_json)"
   ]
  },
  {
   "cell_type": "code",
   "execution_count": null,
   "id": "8c9ea4c6-efd4-4397-87d1-e380100dc17f",
   "metadata": {},
   "outputs": [],
   "source": [
    "print(response_dict[\"choices\"][0][\"message\"][\"content\"])"
   ]
  },
  {
   "cell_type": "code",
   "execution_count": null,
   "id": "781367ef-2642-4934-b443-9d5d21879440",
   "metadata": {},
   "outputs": [],
   "source": []
  }
 ],
 "metadata": {
  "kernelspec": {
   "display_name": "Python 3 (ipykernel)",
   "language": "python",
   "name": "python3"
  },
  "language_info": {
   "codemirror_mode": {
    "name": "ipython",
    "version": 3
   },
   "file_extension": ".py",
   "mimetype": "text/x-python",
   "name": "python",
   "nbconvert_exporter": "python",
   "pygments_lexer": "ipython3",
   "version": "3.11.7"
  }
 },
 "nbformat": 4,
 "nbformat_minor": 5
}
