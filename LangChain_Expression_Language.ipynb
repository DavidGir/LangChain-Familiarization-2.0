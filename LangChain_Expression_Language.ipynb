{
 "cells": [
  {
   "cell_type": "markdown",
   "id": "a99c7d00-132f-4848-bc41-0a48b4aeaeaa",
   "metadata": {},
   "source": [
    "# LangChain Expression Language (LCEL)"
   ]
  },
  {
   "cell_type": "code",
   "execution_count": null,
   "id": "beefa065-c335-48b1-84ae-dd258d3dccf6",
   "metadata": {},
   "outputs": [],
   "source": [
    "import os\n",
    "import openai\n",
    "\n",
    "from dotenv import load_dotenv, find_dotenv\n",
    "_ = load_dotenv(find_dotenv()) # read local .env file\n",
    "openai.api_key = os.environ['OPENAI_API_KEY']"
   ]
  },
  {
   "cell_type": "code",
   "execution_count": null,
   "id": "83a283a6-ea10-433d-8d10-4b90e3a62ee4",
   "metadata": {},
   "outputs": [],
   "source": [
    "from langchain.prompts import ChatPromptTemplate\n",
    "from langchain_openai import ChatOpenAI\n",
    "from langchain.schema.output_parser import StrOutputParser"
   ]
  },
  {
   "cell_type": "markdown",
   "id": "20a476a9-6b16-4b8c-ad21-c391fa40cf0f",
   "metadata": {},
   "source": [
    "## Simple Chain"
   ]
  },
  {
   "cell_type": "code",
   "execution_count": null,
   "id": "fdd41445-2b88-419d-a99f-769b1188445f",
   "metadata": {},
   "outputs": [],
   "source": [
    "prompt = ChatPromptTemplate.from_template(\n",
    "    \"tell me a short joke about {topic}\"\n",
    ")\n",
    "model = ChatOpenAI()\n",
    "output_parser = StrOutputParser()"
   ]
  },
  {
   "cell_type": "code",
   "execution_count": null,
   "id": "96b0a04c-036a-4208-8044-a74aba8b4798",
   "metadata": {},
   "outputs": [],
   "source": [
    "# WHen putting up a chain all we need is to connect them with pipe syntax:\n",
    "chain = prompt | model | output_parser "
   ]
  },
  {
   "cell_type": "code",
   "execution_count": null,
   "id": "6a250e11-5c69-4b6b-aa59-4cd2f034bb1f",
   "metadata": {},
   "outputs": [],
   "source": [
    "chain.invoke({\"topic\": \"chickens\"})"
   ]
  },
  {
   "cell_type": "markdown",
   "id": "71fde197-0e21-41ff-b26a-901656b3c874",
   "metadata": {},
   "source": [
    "## More complex chain"
   ]
  },
  {
   "cell_type": "code",
   "execution_count": null,
   "id": "ff0c31ee-f774-4d60-8817-be0a2826c185",
   "metadata": {},
   "outputs": [],
   "source": [
    "from langchain_openai import OpenAIEmbeddings\n",
    "from langchain.vectorstores import DocArrayInMemorySearch"
   ]
  },
  {
   "cell_type": "code",
   "execution_count": null,
   "id": "54a90ce8-acd8-4afc-84d7-1c30743934d9",
   "metadata": {},
   "outputs": [],
   "source": [
    "vectorstore = DocArrayInMemorySearch.from_texts(\n",
    "    [\"harrison worked at kensho\", \"bears like to eat honey\"],\n",
    "    embedding=OpenAIEmbeddings()\n",
    ")\n",
    "retriever = vectorstore.as_retriever()"
   ]
  },
  {
   "cell_type": "code",
   "execution_count": null,
   "id": "2d6fe3b1-8361-4fcb-bd8c-fbf198929b1f",
   "metadata": {},
   "outputs": [],
   "source": [
    "retriever.get_relevant_documents(\"where did harrison work?\")"
   ]
  },
  {
   "cell_type": "code",
   "execution_count": null,
   "id": "d6d87e1e-f079-43a3-b19e-6e2abc3056b4",
   "metadata": {},
   "outputs": [],
   "source": [
    "retriever.get_relevant_documents(\"what do bears like to eat\")"
   ]
  },
  {
   "cell_type": "code",
   "execution_count": null,
   "id": "eb3391cd-fafb-494c-99e0-692343199b5d",
   "metadata": {},
   "outputs": [],
   "source": [
    "template = \"\"\"Answer the question based only on the following context:\n",
    "{context}\n",
    "\n",
    "Question: {question}\n",
    "\"\"\"\n",
    "prompt = ChatPromptTemplate.from_template(template)"
   ]
  },
  {
   "cell_type": "code",
   "execution_count": null,
   "id": "184d02f4-d91b-4545-ab1e-107f58f80117",
   "metadata": {},
   "outputs": [],
   "source": [
    "from langchain.schema.runnable import RunnableMap"
   ]
  },
  {
   "cell_type": "code",
   "execution_count": null,
   "id": "8edcc5a9-dfa2-4462-ba27-be327e40bfce",
   "metadata": {},
   "outputs": [],
   "source": [
    "# the chain is passed in as a prompt to the model and then the model outputs its response which in turn goes through the output parser and returns as a string:\n",
    "chain = RunnableMap({\n",
    "    \"context\": lambda x: retriever.get_relevant_documents(x[\"question\"]),\n",
    "    \"question\": lambda x: x[\"question\"]\n",
    "}) | prompt | model | output_parser"
   ]
  },
  {
   "cell_type": "code",
   "execution_count": null,
   "id": "22ad9f25-34fa-430d-9df9-899b8f273961",
   "metadata": {},
   "outputs": [],
   "source": [
    "chain.invoke({\"question\": \"where did harrison work?\"})"
   ]
  },
  {
   "cell_type": "code",
   "execution_count": null,
   "id": "abadedfc-8cc1-4c5d-a753-a4d03b73611b",
   "metadata": {},
   "outputs": [],
   "source": [
    "# Check what is going on under the hood:\n",
    "inputs = RunnableMap({\n",
    "    \"context\": lambda x: retriever.get_relevant_documents(x[\"question\"]),\n",
    "    \"question\": lambda x: x[\"question\"]\n",
    "})"
   ]
  },
  {
   "cell_type": "code",
   "execution_count": null,
   "id": "07af9c41-0257-4b58-90c2-80c6c7858fd9",
   "metadata": {},
   "outputs": [],
   "source": [
    "inputs.invoke({\"question\": \"where did harrison work?\"})"
   ]
  },
  {
   "cell_type": "markdown",
   "id": "498c4eeb-709c-4da0-aedf-9cb24dad8314",
   "metadata": {},
   "source": [
    "## Bind \n",
    "### and OpenAi Functions "
   ]
  },
  {
   "cell_type": "code",
   "execution_count": null,
   "id": "c83a4464-6133-45b8-9002-35c8efb72d46",
   "metadata": {},
   "outputs": [],
   "source": [
    "functions = [\n",
    "    {\n",
    "      \"name\": \"weather_search\",\n",
    "      \"description\": \"Search for weather given an airport code\",\n",
    "      \"parameters\": {\n",
    "        \"type\": \"object\",\n",
    "        \"properties\": {\n",
    "          \"airport_code\": {\n",
    "            \"type\": \"string\",\n",
    "            \"description\": \"The airport code to get the weather for\"\n",
    "          },\n",
    "        },\n",
    "        \"required\": [\"airport_code\"]\n",
    "      }\n",
    "    }, \n",
    "     {\n",
    "      \"name\": \"sports_search\",\n",
    "      \"description\": \"Search for news of recent sport events\",\n",
    "      \"parameters\": {\n",
    "        \"type\": \"object\",\n",
    "        \"properties\": {\n",
    "          \"team_name\": {\n",
    "            \"type\": \"string\",\n",
    "            \"description\": \"The sports team to search for\"\n",
    "          },\n",
    "        },\n",
    "        \"required\": [\"team_name\"]\n",
    "      }\n",
    "    }\n",
    "  ]"
   ]
  },
  {
   "cell_type": "code",
   "execution_count": null,
   "id": "4ec4db87-f0ec-4155-84b7-8b46508a5da4",
   "metadata": {},
   "outputs": [],
   "source": [
    "# We can insert the function; when the model is called it will pass any param in bind along to the invocation:\n",
    "prompt = ChatPromptTemplate.from_messages(\n",
    "    [\n",
    "        (\"human\", \"{input}\")\n",
    "    ]\n",
    ")\n",
    "model = ChatOpenAI(temperature=0).bind(functions=functions)"
   ]
  },
  {
   "cell_type": "code",
   "execution_count": null,
   "id": "587249f1-5ae1-4e9d-802d-1e8e8817ae11",
   "metadata": {},
   "outputs": [],
   "source": [
    "runnable = prompt | model"
   ]
  },
  {
   "cell_type": "code",
   "execution_count": null,
   "id": "7950df40-e36c-4043-8eaf-6206148ff90f",
   "metadata": {},
   "outputs": [],
   "source": [
    "runnable.invoke({\"input\": \"what is the weather in sf\"})"
   ]
  },
  {
   "cell_type": "code",
   "execution_count": null,
   "id": "134015dd-c3e5-4ede-8139-12d750da0e49",
   "metadata": {},
   "outputs": [],
   "source": [
    "runnable.invoke({\"input\": \"how did the patriots do yesterday?\"})"
   ]
  },
  {
   "cell_type": "markdown",
   "id": "9ffdd1c6-a8aa-4509-9417-394a2777adcf",
   "metadata": {},
   "source": [
    "## Fallbacks "
   ]
  },
  {
   "cell_type": "code",
   "execution_count": null,
   "id": "c4dc3f0d-ab01-4f94-8ff5-03ec8849c656",
   "metadata": {},
   "outputs": [],
   "source": [
    "# Importing older models:\n",
    "from langchain.llms import OpenAI\n",
    "import json"
   ]
  },
  {
   "cell_type": "code",
   "execution_count": null,
   "id": "b72c9ab8-b0dd-4fe4-b425-fa7daff925b8",
   "metadata": {},
   "outputs": [],
   "source": [
    "simple_model = OpenAI(\n",
    "    temperature=0, \n",
    "    max_tokens=1000, \n",
    "    model=\"gpt-3.5-turbo-instruct\"\n",
    ")\n",
    "simple_chain = simple_model | json.loads"
   ]
  },
  {
   "cell_type": "code",
   "execution_count": null,
   "id": "0a510820-b132-40ef-8dbe-94888a7ad4b9",
   "metadata": {},
   "outputs": [],
   "source": [
    "challenge = \"write three poems in a json blob, where each poem is a json blob of a title, author, and first line\""
   ]
  },
  {
   "cell_type": "code",
   "execution_count": null,
   "id": "2b42d920-02f0-40cc-acc1-c1a12f5ab597",
   "metadata": {},
   "outputs": [],
   "source": [
    "simple_model.invoke(challenge)"
   ]
  },
  {
   "cell_type": "code",
   "execution_count": null,
   "id": "de2b0c98-142d-4e37-af99-fbd7584471d2",
   "metadata": {},
   "outputs": [],
   "source": [
    "# Following is expected to fail as we try to decode with json as the model isnt outputting valid json:\n",
    "simple_chain.invoke(challenge)"
   ]
  },
  {
   "cell_type": "code",
   "execution_count": null,
   "id": "325f78d8-95f1-42d4-9a69-288b15a09599",
   "metadata": {},
   "outputs": [],
   "source": [
    "model = ChatOpenAI(temperature=0)\n",
    "chain = model | StrOutputParser() | json.loads"
   ]
  },
  {
   "cell_type": "code",
   "execution_count": null,
   "id": "434a102c-f3a9-4d0e-88d3-7404b5932bea",
   "metadata": {},
   "outputs": [],
   "source": [
    "chain.invoke(challenge)"
   ]
  },
  {
   "cell_type": "code",
   "execution_count": null,
   "id": "3735dfc4-8090-466e-ad55-711e3056209a",
   "metadata": {},
   "outputs": [],
   "source": [
    "# for fallbacks \n",
    "final_chain = simple_chain.with_fallbacks([chain])"
   ]
  },
  {
   "cell_type": "code",
   "execution_count": null,
   "id": "62893bc9-4f12-4103-9dde-1591444b1ed6",
   "metadata": {},
   "outputs": [],
   "source": [
    "final_chain.invoke(challenge)"
   ]
  },
  {
   "cell_type": "markdown",
   "id": "522082d8-6f21-42f4-a3c0-2d9730f2c220",
   "metadata": {},
   "source": [
    "## Interface "
   ]
  },
  {
   "cell_type": "code",
   "execution_count": null,
   "id": "fe444147-4964-473f-9291-6b3cb12dc9aa",
   "metadata": {},
   "outputs": [],
   "source": [
    "prompt = ChatPromptTemplate.from_template(\n",
    "    \"Tell me a short joke about {topic}\"\n",
    ")\n",
    "model = ChatOpenAI()\n",
    "output_parser = StrOutputParser()\n",
    "\n",
    "chain = prompt | model | output_parser"
   ]
  },
  {
   "cell_type": "code",
   "execution_count": null,
   "id": "3a6d0552-bde6-4c18-9610-950446cf9ce7",
   "metadata": {},
   "outputs": [],
   "source": [
    "chain.invoke({\"topic\": \"bears\"})"
   ]
  },
  {
   "cell_type": "code",
   "execution_count": null,
   "id": "d8741a27-4d0e-4135-8430-4e1d51f4c5be",
   "metadata": {},
   "outputs": [],
   "source": [
    "chain.batch([{\"topic\": \"bears\"}, {\"topic\": \"frogs\"}])"
   ]
  },
  {
   "cell_type": "code",
   "execution_count": null,
   "id": "5dacfd49-923e-4915-b30d-30e786ed0352",
   "metadata": {},
   "outputs": [],
   "source": [
    "# Stream returns an iterable, it streams back the words as such the user doesn't stare at an empty screen\n",
    "for t in chain.stream({\"topic\": \"bears\"}):\n",
    "    print(t)"
   ]
  },
  {
   "cell_type": "code",
   "execution_count": null,
   "id": "4ae16e2c-fabc-464d-9f27-94f4ac9ce361",
   "metadata": {},
   "outputs": [],
   "source": [
    "# Getting the response asynchronously:\n",
    "response = await chain.ainvoke({\"topic\": \"bears\"})\n",
    "response"
   ]
  },
  {
   "cell_type": "code",
   "execution_count": null,
   "id": "868971f5-f2e2-43e2-a1f6-8f65838ff9b9",
   "metadata": {},
   "outputs": [],
   "source": []
  }
 ],
 "metadata": {
  "kernelspec": {
   "display_name": "Python 3 (ipykernel)",
   "language": "python",
   "name": "python3"
  },
  "language_info": {
   "codemirror_mode": {
    "name": "ipython",
    "version": 3
   },
   "file_extension": ".py",
   "mimetype": "text/x-python",
   "name": "python",
   "nbconvert_exporter": "python",
   "pygments_lexer": "ipython3",
   "version": "3.11.7"
  }
 },
 "nbformat": 4,
 "nbformat_minor": 5
}
